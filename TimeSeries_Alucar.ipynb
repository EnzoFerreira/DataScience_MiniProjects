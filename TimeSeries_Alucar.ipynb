{
  "nbformat": 4,
  "nbformat_minor": 0,
  "metadata": {
    "colab": {
      "provenance": [],
      "authorship_tag": "ABX9TyM+ZmHMkVuLX4MaMsA458KB"
    },
    "kernelspec": {
      "name": "python3",
      "display_name": "Python 3"
    },
    "language_info": {
      "name": "python"
    }
  },
  "cells": [
    {
      "cell_type": "markdown",
      "source": [
        "#Analisando as Vendas"
      ],
      "metadata": {
        "id": "79HtwYryanu8"
      }
    },
    {
      "cell_type": "code",
      "source": [
        "#imports\n",
        "import pandas as pd\n",
        "import matplotlib.pyplot as plt\n",
        "import seaborn as sns\n",
        "import numpy as np"
      ],
      "metadata": {
        "id": "GL1u-0Luaro5"
      },
      "execution_count": 3,
      "outputs": []
    },
    {
      "cell_type": "code",
      "source": [
        "alucar = pd.read_csv('alucar.csv')\n",
        "#checar dados nulos no arquivo\n",
        "print(f'Dados nulos totais: {alucar.isna().sum().sum()}')\n",
        "#Alterando o type do alucar(mes(object => date ))\n",
        "alucar['mes'] = pd.to_datetime(alucar['mes'])\n",
        "alucar.dtypes"
      ],
      "metadata": {
        "id": "30WaXf35bHOe"
      },
      "execution_count": null,
      "outputs": []
    },
    {
      "cell_type": "markdown",
      "source": [
        "##Analisando"
      ],
      "metadata": {
        "id": "jCDBJNQQfahl"
      }
    },
    {
      "cell_type": "code",
      "source": [
        "#Lineplot mostra um gráfico com relação de linha crescente aos dados apresentados\n",
        "sns.lineplot(x='mes',y='vendas', data=alucar)"
      ],
      "metadata": {
        "id": "aAcRBcfgfdY_"
      },
      "execution_count": null,
      "outputs": []
    },
    {
      "cell_type": "code",
      "source": [
        "#Como personalizar e melhorar a visualização do gráfico\n",
        "sns.set_palette('Accent')\n",
        "sns.set_style('darkgrid')\n",
        "grafico = sns.lineplot(x='mes',y='vendas', data=alucar)\n",
        "\n",
        "#alterar a dimensão do gráfico e o título\n",
        "grafico.figure.set_size_inches(12,6)\n",
        "grafico.set_title('Vendas Alucar de 2017/18', fontsize=18, loc='left')\n",
        "\n",
        "#localizar os Eixos X e Y e atribuir nomes\n",
        "grafico.set_xlabel('Período', fontsize = 14)\n",
        "grafico.set_ylabel('Vendas', fontsize = 14)\n",
        "grafico = grafico"
      ],
      "metadata": {
        "id": "thJHhpBfkdA0"
      },
      "execution_count": null,
      "outputs": []
    },
    {
      "cell_type": "code",
      "source": [
        "#Registrando os aumentos de vendas em uma nova coluna\n",
        "alucar['Aumento'] = alucar['vendas'].diff()\n",
        "\n",
        "#Criando gráfico apartir de função(sem precisar re-fazer o escrito anteriormente))\n",
        "def CriarGrafico(titulo, labelx, labely, x, y , dataset):\n",
        "  sns.set_palette('Accent')\n",
        "  sns.set_style('darkgrid')\n",
        "  grafico2 = sns.lineplot(x=x, y=y, data=dataset)\n",
        "  grafico2.figure.set_size_inches(12,6)\n",
        "  grafico2.set_xlabel(labelx, fontsize=14)\n",
        "  grafico2.set_ylabel(labely, fontsize=14)\n",
        "  grafico2.set_title(titulo, fontsize=18, loc='left')\n",
        "  grafico2 = grafico2\n"
      ],
      "metadata": {
        "id": "AC30QMX4vlzQ"
      },
      "execution_count": 41,
      "outputs": []
    },
    {
      "cell_type": "code",
      "source": [
        "CriarGrafico('Aumento de Vendas da Alucar', 'Tempo', 'Aumento', 'mes', 'Aumento', alucar)"
      ],
      "metadata": {
        "id": "S9cOnETBlT83"
      },
      "execution_count": null,
      "outputs": []
    },
    {
      "cell_type": "code",
      "source": [
        "#decompor o dataset para descobrir a \"Aceleração\" desse crescimento nas vendas\n",
        "alucar['aceleracao'] = alucar['Aumento'].diff()\n",
        "\n",
        "#plotando novamente\n",
        "CriarGrafico('Aceleração das Vendas da Alucar', 'Aceleração','Aumento','mes', 'aceleracao', alucar)"
      ],
      "metadata": {
        "id": "-A3YAZ1Rl7ak"
      },
      "execution_count": null,
      "outputs": []
    },
    {
      "cell_type": "code",
      "source": [
        "#Criando 3 versões de gráficos, para melhor análise\n",
        "\n",
        "#Criando uma função comparativa dos 3 gráficos\n",
        "\n",
        "def CriarGrafico3(x,y,y2,y3,dataset, titulo):\n",
        "  #Gráfico 1\n",
        "  plt.figure(figsize=(16,12))\n",
        "  grafico3= plt.subplot(3,1,1)\n",
        "  grafico3.set_title(titulo, fontsize=18, loc='left')\n",
        "  sns.lineplot(x=x ,y=y , data=dataset)\n",
        "\n",
        "  #Grafico2\n",
        "  plt.subplot(3,1,2)\n",
        "  sns.lineplot(x=x, y=y2, data=dataset)\n",
        "\n",
        "  #Gráfico3\n",
        "  plt.subplot(3,1,3)\n",
        "  sns.lineplot(x=x, y=y3, data=dataset)"
      ],
      "metadata": {
        "id": "HI4FhgzwssFX"
      },
      "execution_count": 58,
      "outputs": []
    },
    {
      "cell_type": "code",
      "source": [
        "CriarGrafico3('mes', 'vendas', 'Aumento', 'aceleracao', alucar, 'Analise de vendas Alucar 2017/18')"
      ],
      "metadata": {
        "id": "ZKNjFwuatUGk"
      },
      "execution_count": null,
      "outputs": []
    },
    {
      "cell_type": "markdown",
      "source": [
        "##AutoCorrelação"
      ],
      "metadata": {
        "id": "9iasVq1MwQ3e"
      }
    },
    {
      "cell_type": "code",
      "source": [
        "#importando a ferramenta\n",
        "from pandas.plotting import autocorrelation_plot\n",
        "\n",
        "gCorrelacao = plt.figure(figsize=(12,6))\n",
        "gCorrelacao.suptitle('Correlação do Aumento', fontsize=18, x=0.26, y=0.95)\n",
        "autocorrelation_plot(alucar['Aumento'][1:])\n",
        "gCorrelacao = gCorrelacao"
      ],
      "metadata": {
        "id": "lomPYBULwXlx"
      },
      "execution_count": null,
      "outputs": []
    }
  ]
}