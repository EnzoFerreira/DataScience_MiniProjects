{
  "nbformat": 4,
  "nbformat_minor": 0,
  "metadata": {
    "colab": {
      "provenance": [],
      "collapsed_sections": [
        "7POORIMrdsFq",
        "SaAS16WiegXu"
      ],
      "authorship_tag": "ABX9TyOUoj4eNMNxbNDxQpFCS+pz"
    },
    "kernelspec": {
      "name": "python3",
      "display_name": "Python 3"
    },
    "language_info": {
      "name": "python"
    }
  },
  "cells": [
    {
      "cell_type": "markdown",
      "source": [
        "#Carteira de investimento Jão e Maria"
      ],
      "metadata": {
        "id": "hIenXiIsYcVU"
      }
    },
    {
      "cell_type": "markdown",
      "source": [
        "##Imports"
      ],
      "metadata": {
        "id": "7POORIMrdsFq"
      }
    },
    {
      "cell_type": "code",
      "source": [
        "import matplotlib.pyplot as plt\n",
        "import numpy as np\n",
        "import seaborn as sns\n",
        "from pandas.plotting import autocorrelation_plot"
      ],
      "metadata": {
        "id": "GR-zgBymYfi8"
      },
      "execution_count": 14,
      "outputs": []
    },
    {
      "cell_type": "markdown",
      "source": [
        "##Código do cálculo"
      ],
      "metadata": {
        "id": "hTuvr3fadwqT"
      }
    },
    {
      "cell_type": "markdown",
      "source": [
        "###Funções"
      ],
      "metadata": {
        "id": "DtMMtolreT_K"
      }
    },
    {
      "cell_type": "code",
      "source": [
        "def decisao():\n",
        "    carteiraFinal(escolha)\n",
        "\n",
        "#def CriarGrafico(titulo, labelx, labely, x, y):\n",
        "#  sns.set_palette('Accent')\n",
        "#  sns.set_style('darkgrid')\n",
        "#  grafico = sns.lineplot(x=x, y=y)\n",
        "#  grafico.figure.set_size_inches(12,6)\n",
        "#  grafico.set_xlabel(labelx, fontsize=14)\n",
        "#  grafico.set_ylabel(labely, fontsize=14)\n",
        "#  grafico.set_title(titulo, fontsize=18, loc='left')\n",
        "#  grafico = grafico\n",
        "\n",
        "\n",
        "def carteiraFinal(escolha):\n",
        "    if escolha == 'joao' or escolha == 'JOAO':\n",
        "        c = investidor1['capital']\n",
        "        CDB = investidor1['investimentos']['CDB']\n",
        "        LCI = investidor1['investimentos']['LCI']\n",
        "        LCA = investidor1['investimentos']['LCA']\n",
        "        acoes = investidor1['investimentos']['acoes']\n",
        "        n = 3\n",
        "\n",
        "        CDB_1 = (c*CDB)*(1+Taxas['CDB'])**n\n",
        "        CDB = round(CDB_1)\n",
        "\n",
        "        LCI_1 = (c*LCI)*(1+Taxas['LCI'])**n\n",
        "        LCI = round(LCI_1)\n",
        "\n",
        "        LCA_1 = (c*LCA)*(1+Taxas['LCA'])**n\n",
        "        LCA = round(LCA_1)\n",
        "\n",
        "        Acoes_1 = (c*acoes)*(1+Taxas['acoes'])**n\n",
        "        Acoes = round(Acoes_1)\n",
        "\n",
        "        total_1 = CDB + LCI + LCA + Acoes\n",
        "        total = round(total_1)\n",
        "\n",
        "        print(f'\\nApós 3 anos , o valor investido em CDB será:R${CDB}, LCI:R${LCI}, LCA:R${LCA} e em ações será:R${Acoes}, totalizando R${total} para Joao\\n')\n",
        "\n",
        "        #Gráficos\n",
        "        grafico = plt.figure(figsize=(5,3))\n",
        "        grafico.suptitle('Teste', fontsize=12, x=0.26, y=0.95)\n",
        "        autocorrelation_plot(['CDB'][1:])\n",
        "        grafico = grafico\n",
        "\n",
        "    elif escolha == 'maria' or escolha == 'MARIA':    \n",
        "        c = investidor2['capital']\n",
        "        CDB = investidor2['investimentos']['CDB']\n",
        "        acoes = investidor2['investimentos']['acoes']\n",
        "        FII = investidor2['investimentos']['FII']\n",
        "        n = 3\n",
        "\n",
        "        CDB_2 = (c*CDB)*(1+Taxas['CDB'])**n\n",
        "        CDB = round(CDB_2)\n",
        "\n",
        "        Acoes_2 = (c*acoes)*(1+Taxas['acoes'])**n\n",
        "        Acoes = round(Acoes_2)\n",
        "\n",
        "        FII_2 = (c*FII)*(1+Taxas['FII'])**n\n",
        "        FII = round(FII_2)\n",
        "\n",
        "        total_1 = CDB + FII + Acoes\n",
        "        total = round(total_1)\n",
        "\n",
        "        print(f'\\nApós 3 anos , o valor investido em CDB será:R${CDB}, FII:R${FII} e em ações será:R${Acoes}, totalizando R${total} para Maria\\n')"
      ],
      "metadata": {
        "id": "ujuYF1u9eYns"
      },
      "execution_count": 26,
      "outputs": []
    },
    {
      "cell_type": "markdown",
      "source": [
        "###Dados dos investidores e taxa dos investimentos"
      ],
      "metadata": {
        "id": "SaAS16WiegXu"
      }
    },
    {
      "cell_type": "code",
      "source": [
        "investidor1 = {\n",
        "    'nome':'João',\n",
        "    'capital':10000,\n",
        "    'investimentos':{\n",
        "        'CDB':0.35,\n",
        "        'LCI':0.2,\n",
        "        'LCA':0.33,\n",
        "        'acoes':0.12,    \n",
        "    },\n",
        "}\n",
        "investidor2 = {\n",
        "    'nome':'Maria',\n",
        "    'capital':8000,\n",
        "    'investimentos':{\n",
        "        'CDB':0.1,\n",
        "        'FII':0.2,\n",
        "        'acoes':0.7,   \n",
        "    },\n",
        "}\n",
        "Taxas = {\n",
        "    'CDB':0.01,\n",
        "    'LCI':0.02,\n",
        "    'FII':0.09,\n",
        "    'LCA':0.03,\n",
        "    'acoes':1,\n",
        "}"
      ],
      "metadata": {
        "id": "_bXkyPyJelNl"
      },
      "execution_count": 4,
      "outputs": []
    },
    {
      "cell_type": "markdown",
      "source": [
        "###Código principal"
      ],
      "metadata": {
        "id": "kYZI5JZEe2zc"
      }
    },
    {
      "cell_type": "code",
      "source": [
        "escolha = str(input(\"Deseja acessar a carteira do João ou Maria?\\n\"))\n",
        "decisao()"
      ],
      "metadata": {
        "id": "la19R0kXe8b0"
      },
      "execution_count": null,
      "outputs": []
    }
  ]
}