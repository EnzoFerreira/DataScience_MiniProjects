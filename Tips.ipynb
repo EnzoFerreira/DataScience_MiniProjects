{
  "nbformat": 4,
  "nbformat_minor": 0,
  "metadata": {
    "colab": {
      "provenance": [],
      "authorship_tag": "ABX9TyP3Yk+5RDRThoYlzyN+O0kl"
    },
    "kernelspec": {
      "name": "python3",
      "display_name": "Python 3"
    },
    "language_info": {
      "name": "python"
    }
  },
  "cells": [
    {
      "cell_type": "markdown",
      "source": [
        "#Imports"
      ],
      "metadata": {
        "id": "Fn5cU2zgwIU2"
      }
    },
    {
      "cell_type": "code",
      "source": [
        "import pandas as pd\n",
        "import numpy as np\n",
        "import matplotlib.pyplot as plt\n",
        "data = pd.read_csv('tips.csv', sep=',')"
      ],
      "metadata": {
        "id": "Zh44xUUcwIJU"
      },
      "execution_count": 6,
      "outputs": []
    },
    {
      "cell_type": "markdown",
      "source": [
        "##Tradução ou renomear coluna"
      ],
      "metadata": {
        "id": "GDgaTn9A1tqF"
      }
    },
    {
      "cell_type": "code",
      "source": [
        "data.columns\n",
        "renomear = {'total_bill':'Total',\n",
        "            'tip':'Gorjeta',\n",
        "            'dessert':'Sobremesa',\n",
        "            'day':'Dia_Semana',\n",
        "            'time':'Refeição',\n",
        "            'size':'Quantidade_de_Pessoas'}"
      ],
      "metadata": {
        "id": "6qErpuoX1v9E"
      },
      "execution_count": 24,
      "outputs": []
    },
    {
      "cell_type": "code",
      "source": [
        "dataNovo = data.rename(columns = renomear)"
      ],
      "metadata": {
        "id": "8xBJVtsW2iSD"
      },
      "execution_count": null,
      "outputs": []
    },
    {
      "cell_type": "code",
      "source": [
        "sim_nao = {'Yes':'Sim',\n",
        "           'No':'Não'}\n",
        "dataNovo.Sobremesa.map(sim_nao)"
      ],
      "metadata": {
        "id": "-sbdj1YB32Kd"
      },
      "execution_count": null,
      "outputs": []
    },
    {
      "cell_type": "code",
      "source": [
        "dias_semana = {'Sun':'Domingo',\n",
        "               'Sat':'Sábado',\n",
        "               'Thur':'Quinta'}\n",
        "dataNovo.Dia_Semana.map(dias_semana)"
      ],
      "metadata": {
        "colab": {
          "base_uri": "https://localhost:8080/"
        },
        "id": "9zDL6osmHTh2",
        "outputId": "20655557-51dc-4b09-8049-fc18bc737fa8"
      },
      "execution_count": 37,
      "outputs": [
        {
          "output_type": "execute_result",
          "data": {
            "text/plain": [
              "0      Domingo\n",
              "1      Domingo\n",
              "2      Domingo\n",
              "3      Domingo\n",
              "4      Domingo\n",
              "        ...   \n",
              "239     Sábado\n",
              "240     Sábado\n",
              "241     Sábado\n",
              "242     Sábado\n",
              "243     Quinta\n",
              "Name: Dia_Semana, Length: 244, dtype: object"
            ]
          },
          "metadata": {},
          "execution_count": 37
        }
      ]
    }
  ]
}