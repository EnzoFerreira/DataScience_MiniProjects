{
  "nbformat": 4,
  "nbformat_minor": 0,
  "metadata": {
    "colab": {
      "provenance": [],
      "collapsed_sections": [
        "Fn5cU2zgwIU2"
      ],
      "authorship_tag": "ABX9TyPjwZSMUkD/7U49UIh6Yyq3"
    },
    "kernelspec": {
      "name": "python3",
      "display_name": "Python 3"
    },
    "language_info": {
      "name": "python"
    }
  },
  "cells": [
    {
      "cell_type": "markdown",
      "source": [
        "#Imports"
      ],
      "metadata": {
        "id": "Fn5cU2zgwIU2"
      }
    },
    {
      "cell_type": "code",
      "source": [
        "import pandas as pd\n",
        "import numpy as np\n",
        "import matplotlib.pyplot as plt\n",
        "import seaborn as sns\n",
        "!pip install seaborn==0.9.0\n",
        "from scipy.stats import ranksums\n",
        "data = pd.read_csv('tips.csv', sep=',')"
      ],
      "metadata": {
        "id": "Zh44xUUcwIJU",
        "colab": {
          "base_uri": "https://localhost:8080/",
          "height": 469
        },
        "outputId": "228d5f21-5040-48c1-8b8d-3ed1d6e7757c"
      },
      "execution_count": 3,
      "outputs": [
        {
          "output_type": "stream",
          "name": "stdout",
          "text": [
            "Looking in indexes: https://pypi.org/simple, https://us-python.pkg.dev/colab-wheels/public/simple/\n",
            "Collecting seaborn==0.9.0\n",
            "  Downloading seaborn-0.9.0-py3-none-any.whl (208 kB)\n",
            "\u001b[2K     \u001b[90m━━━━━━━━━━━━━━━━━━━━━━━━━━━━━━━━━━━━━━━\u001b[0m \u001b[32m208.1/208.1 KB\u001b[0m \u001b[31m5.0 MB/s\u001b[0m eta \u001b[36m0:00:00\u001b[0m\n",
            "\u001b[?25hRequirement already satisfied: matplotlib>=1.4.3 in /usr/local/lib/python3.8/dist-packages (from seaborn==0.9.0) (3.2.2)\n",
            "Requirement already satisfied: pandas>=0.15.2 in /usr/local/lib/python3.8/dist-packages (from seaborn==0.9.0) (1.3.5)\n",
            "Requirement already satisfied: numpy>=1.9.3 in /usr/local/lib/python3.8/dist-packages (from seaborn==0.9.0) (1.21.6)\n",
            "Requirement already satisfied: scipy>=0.14.0 in /usr/local/lib/python3.8/dist-packages (from seaborn==0.9.0) (1.7.3)\n",
            "Requirement already satisfied: kiwisolver>=1.0.1 in /usr/local/lib/python3.8/dist-packages (from matplotlib>=1.4.3->seaborn==0.9.0) (1.4.4)\n",
            "Requirement already satisfied: cycler>=0.10 in /usr/local/lib/python3.8/dist-packages (from matplotlib>=1.4.3->seaborn==0.9.0) (0.11.0)\n",
            "Requirement already satisfied: pyparsing!=2.0.4,!=2.1.2,!=2.1.6,>=2.0.1 in /usr/local/lib/python3.8/dist-packages (from matplotlib>=1.4.3->seaborn==0.9.0) (3.0.9)\n",
            "Requirement already satisfied: python-dateutil>=2.1 in /usr/local/lib/python3.8/dist-packages (from matplotlib>=1.4.3->seaborn==0.9.0) (2.8.2)\n",
            "Requirement already satisfied: pytz>=2017.3 in /usr/local/lib/python3.8/dist-packages (from pandas>=0.15.2->seaborn==0.9.0) (2022.7)\n",
            "Requirement already satisfied: six>=1.5 in /usr/local/lib/python3.8/dist-packages (from python-dateutil>=2.1->matplotlib>=1.4.3->seaborn==0.9.0) (1.15.0)\n",
            "Installing collected packages: seaborn\n",
            "  Attempting uninstall: seaborn\n",
            "    Found existing installation: seaborn 0.11.2\n",
            "    Uninstalling seaborn-0.11.2:\n",
            "      Successfully uninstalled seaborn-0.11.2\n",
            "Successfully installed seaborn-0.9.0\n"
          ]
        },
        {
          "output_type": "display_data",
          "data": {
            "application/vnd.colab-display-data+json": {
              "pip_warning": {
                "packages": [
                  "seaborn"
                ]
              }
            }
          },
          "metadata": {}
        }
      ]
    },
    {
      "cell_type": "markdown",
      "source": [
        "##Tradução ou renomear coluna"
      ],
      "metadata": {
        "id": "GDgaTn9A1tqF"
      }
    },
    {
      "cell_type": "code",
      "source": [
        "data.columns\n",
        "renomear = {'total_bill':'Total',\n",
        "            'tip':'Gorjeta',\n",
        "            'dessert':'Sobremesa',\n",
        "            'day':'Dia_Semana',\n",
        "            'time':'Hora_do_Dia',\n",
        "            'size':'Quantidade_de_Pessoas'}"
      ],
      "metadata": {
        "id": "6qErpuoX1v9E"
      },
      "execution_count": 4,
      "outputs": []
    },
    {
      "cell_type": "code",
      "source": [
        "gorjetas = data.rename(columns = renomear)"
      ],
      "metadata": {
        "id": "8xBJVtsW2iSD"
      },
      "execution_count": 5,
      "outputs": []
    },
    {
      "cell_type": "code",
      "source": [
        "sim_nao = {'Yes':'Sim',\n",
        "           'No':'Não'}"
      ],
      "metadata": {
        "id": "-sbdj1YB32Kd"
      },
      "execution_count": 6,
      "outputs": []
    },
    {
      "cell_type": "code",
      "source": [
        "gorjetas.Sobremesa.map(sim_nao)"
      ],
      "metadata": {
        "colab": {
          "base_uri": "https://localhost:8080/"
        },
        "id": "NkF7TdrO9_gG",
        "outputId": "fde6ede5-024a-44e3-ff43-450530e521e9"
      },
      "execution_count": 7,
      "outputs": [
        {
          "output_type": "execute_result",
          "data": {
            "text/plain": [
              "0      Não\n",
              "1      Não\n",
              "2      Não\n",
              "3      Não\n",
              "4      Não\n",
              "      ... \n",
              "239    Não\n",
              "240    Sim\n",
              "241    Sim\n",
              "242    Não\n",
              "243    Não\n",
              "Name: Sobremesa, Length: 244, dtype: object"
            ]
          },
          "metadata": {},
          "execution_count": 7
        }
      ]
    },
    {
      "cell_type": "code",
      "source": [
        "gorjetas.Sobremesa = gorjetas.Sobremesa.map(sim_nao)"
      ],
      "metadata": {
        "id": "2tccImDS-F5j"
      },
      "execution_count": 8,
      "outputs": []
    },
    {
      "cell_type": "code",
      "source": [
        "dias= {'Sun':'Domingo',\n",
        "               'Sat':'Sábado',\n",
        "               'Thur':'Quinta',\n",
        "               'Fri':'Sexta'}"
      ],
      "metadata": {
        "id": "9zDL6osmHTh2"
      },
      "execution_count": 9,
      "outputs": []
    },
    {
      "cell_type": "code",
      "source": [
        "gorjetas.Dia_Semana = gorjetas.Dia_Semana.map(dias)"
      ],
      "metadata": {
        "id": "LaRsIY1G_-1r"
      },
      "execution_count": 10,
      "outputs": []
    },
    {
      "cell_type": "code",
      "source": [
        "hora = {'Dinner':'Janta',\n",
        "            'Lunch':'Almoço'}"
      ],
      "metadata": {
        "id": "72WgMdkpA6Ll"
      },
      "execution_count": 11,
      "outputs": []
    },
    {
      "cell_type": "code",
      "source": [
        "gorjetas.Hora_do_Dia = gorjetas.Hora_do_Dia.map(hora)"
      ],
      "metadata": {
        "id": "SWmjtz0fF3Xs"
      },
      "execution_count": 12,
      "outputs": []
    },
    {
      "cell_type": "code",
      "source": [
        "gorjetas.head(10)"
      ],
      "metadata": {
        "colab": {
          "base_uri": "https://localhost:8080/",
          "height": 0
        },
        "id": "MN5cEfM5GFvf",
        "outputId": "52511d7f-7503-4481-c7a3-106c1b66e43d"
      },
      "execution_count": 13,
      "outputs": [
        {
          "output_type": "execute_result",
          "data": {
            "text/plain": [
              "   Total  Gorjeta Sobremesa Dia_Semana Hora_do_Dia  Quantidade_de_Pessoas\n",
              "0  16.99     1.01       Não    Domingo       Janta                      2\n",
              "1  10.34     1.66       Não    Domingo       Janta                      3\n",
              "2  21.01     3.50       Não    Domingo       Janta                      3\n",
              "3  23.68     3.31       Não    Domingo       Janta                      2\n",
              "4  24.59     3.61       Não    Domingo       Janta                      4\n",
              "5  25.29     4.71       Não    Domingo       Janta                      4\n",
              "6   8.77     2.00       Não    Domingo       Janta                      2\n",
              "7  26.88     3.12       Não    Domingo       Janta                      4\n",
              "8  15.04     1.96       Não    Domingo       Janta                      2\n",
              "9  14.78     3.23       Não    Domingo       Janta                      2"
            ],
            "text/html": [
              "\n",
              "  <div id=\"df-84be717c-3a27-465f-acf9-2a3c9571ae41\">\n",
              "    <div class=\"colab-df-container\">\n",
              "      <div>\n",
              "<style scoped>\n",
              "    .dataframe tbody tr th:only-of-type {\n",
              "        vertical-align: middle;\n",
              "    }\n",
              "\n",
              "    .dataframe tbody tr th {\n",
              "        vertical-align: top;\n",
              "    }\n",
              "\n",
              "    .dataframe thead th {\n",
              "        text-align: right;\n",
              "    }\n",
              "</style>\n",
              "<table border=\"1\" class=\"dataframe\">\n",
              "  <thead>\n",
              "    <tr style=\"text-align: right;\">\n",
              "      <th></th>\n",
              "      <th>Total</th>\n",
              "      <th>Gorjeta</th>\n",
              "      <th>Sobremesa</th>\n",
              "      <th>Dia_Semana</th>\n",
              "      <th>Hora_do_Dia</th>\n",
              "      <th>Quantidade_de_Pessoas</th>\n",
              "    </tr>\n",
              "  </thead>\n",
              "  <tbody>\n",
              "    <tr>\n",
              "      <th>0</th>\n",
              "      <td>16.99</td>\n",
              "      <td>1.01</td>\n",
              "      <td>Não</td>\n",
              "      <td>Domingo</td>\n",
              "      <td>Janta</td>\n",
              "      <td>2</td>\n",
              "    </tr>\n",
              "    <tr>\n",
              "      <th>1</th>\n",
              "      <td>10.34</td>\n",
              "      <td>1.66</td>\n",
              "      <td>Não</td>\n",
              "      <td>Domingo</td>\n",
              "      <td>Janta</td>\n",
              "      <td>3</td>\n",
              "    </tr>\n",
              "    <tr>\n",
              "      <th>2</th>\n",
              "      <td>21.01</td>\n",
              "      <td>3.50</td>\n",
              "      <td>Não</td>\n",
              "      <td>Domingo</td>\n",
              "      <td>Janta</td>\n",
              "      <td>3</td>\n",
              "    </tr>\n",
              "    <tr>\n",
              "      <th>3</th>\n",
              "      <td>23.68</td>\n",
              "      <td>3.31</td>\n",
              "      <td>Não</td>\n",
              "      <td>Domingo</td>\n",
              "      <td>Janta</td>\n",
              "      <td>2</td>\n",
              "    </tr>\n",
              "    <tr>\n",
              "      <th>4</th>\n",
              "      <td>24.59</td>\n",
              "      <td>3.61</td>\n",
              "      <td>Não</td>\n",
              "      <td>Domingo</td>\n",
              "      <td>Janta</td>\n",
              "      <td>4</td>\n",
              "    </tr>\n",
              "    <tr>\n",
              "      <th>5</th>\n",
              "      <td>25.29</td>\n",
              "      <td>4.71</td>\n",
              "      <td>Não</td>\n",
              "      <td>Domingo</td>\n",
              "      <td>Janta</td>\n",
              "      <td>4</td>\n",
              "    </tr>\n",
              "    <tr>\n",
              "      <th>6</th>\n",
              "      <td>8.77</td>\n",
              "      <td>2.00</td>\n",
              "      <td>Não</td>\n",
              "      <td>Domingo</td>\n",
              "      <td>Janta</td>\n",
              "      <td>2</td>\n",
              "    </tr>\n",
              "    <tr>\n",
              "      <th>7</th>\n",
              "      <td>26.88</td>\n",
              "      <td>3.12</td>\n",
              "      <td>Não</td>\n",
              "      <td>Domingo</td>\n",
              "      <td>Janta</td>\n",
              "      <td>4</td>\n",
              "    </tr>\n",
              "    <tr>\n",
              "      <th>8</th>\n",
              "      <td>15.04</td>\n",
              "      <td>1.96</td>\n",
              "      <td>Não</td>\n",
              "      <td>Domingo</td>\n",
              "      <td>Janta</td>\n",
              "      <td>2</td>\n",
              "    </tr>\n",
              "    <tr>\n",
              "      <th>9</th>\n",
              "      <td>14.78</td>\n",
              "      <td>3.23</td>\n",
              "      <td>Não</td>\n",
              "      <td>Domingo</td>\n",
              "      <td>Janta</td>\n",
              "      <td>2</td>\n",
              "    </tr>\n",
              "  </tbody>\n",
              "</table>\n",
              "</div>\n",
              "      <button class=\"colab-df-convert\" onclick=\"convertToInteractive('df-84be717c-3a27-465f-acf9-2a3c9571ae41')\"\n",
              "              title=\"Convert this dataframe to an interactive table.\"\n",
              "              style=\"display:none;\">\n",
              "        \n",
              "  <svg xmlns=\"http://www.w3.org/2000/svg\" height=\"24px\"viewBox=\"0 0 24 24\"\n",
              "       width=\"24px\">\n",
              "    <path d=\"M0 0h24v24H0V0z\" fill=\"none\"/>\n",
              "    <path d=\"M18.56 5.44l.94 2.06.94-2.06 2.06-.94-2.06-.94-.94-2.06-.94 2.06-2.06.94zm-11 1L8.5 8.5l.94-2.06 2.06-.94-2.06-.94L8.5 2.5l-.94 2.06-2.06.94zm10 10l.94 2.06.94-2.06 2.06-.94-2.06-.94-.94-2.06-.94 2.06-2.06.94z\"/><path d=\"M17.41 7.96l-1.37-1.37c-.4-.4-.92-.59-1.43-.59-.52 0-1.04.2-1.43.59L10.3 9.45l-7.72 7.72c-.78.78-.78 2.05 0 2.83L4 21.41c.39.39.9.59 1.41.59.51 0 1.02-.2 1.41-.59l7.78-7.78 2.81-2.81c.8-.78.8-2.07 0-2.86zM5.41 20L4 18.59l7.72-7.72 1.47 1.35L5.41 20z\"/>\n",
              "  </svg>\n",
              "      </button>\n",
              "      \n",
              "  <style>\n",
              "    .colab-df-container {\n",
              "      display:flex;\n",
              "      flex-wrap:wrap;\n",
              "      gap: 12px;\n",
              "    }\n",
              "\n",
              "    .colab-df-convert {\n",
              "      background-color: #E8F0FE;\n",
              "      border: none;\n",
              "      border-radius: 50%;\n",
              "      cursor: pointer;\n",
              "      display: none;\n",
              "      fill: #1967D2;\n",
              "      height: 32px;\n",
              "      padding: 0 0 0 0;\n",
              "      width: 32px;\n",
              "    }\n",
              "\n",
              "    .colab-df-convert:hover {\n",
              "      background-color: #E2EBFA;\n",
              "      box-shadow: 0px 1px 2px rgba(60, 64, 67, 0.3), 0px 1px 3px 1px rgba(60, 64, 67, 0.15);\n",
              "      fill: #174EA6;\n",
              "    }\n",
              "\n",
              "    [theme=dark] .colab-df-convert {\n",
              "      background-color: #3B4455;\n",
              "      fill: #D2E3FC;\n",
              "    }\n",
              "\n",
              "    [theme=dark] .colab-df-convert:hover {\n",
              "      background-color: #434B5C;\n",
              "      box-shadow: 0px 1px 3px 1px rgba(0, 0, 0, 0.15);\n",
              "      filter: drop-shadow(0px 1px 2px rgba(0, 0, 0, 0.3));\n",
              "      fill: #FFFFFF;\n",
              "    }\n",
              "  </style>\n",
              "\n",
              "      <script>\n",
              "        const buttonEl =\n",
              "          document.querySelector('#df-84be717c-3a27-465f-acf9-2a3c9571ae41 button.colab-df-convert');\n",
              "        buttonEl.style.display =\n",
              "          google.colab.kernel.accessAllowed ? 'block' : 'none';\n",
              "\n",
              "        async function convertToInteractive(key) {\n",
              "          const element = document.querySelector('#df-84be717c-3a27-465f-acf9-2a3c9571ae41');\n",
              "          const dataTable =\n",
              "            await google.colab.kernel.invokeFunction('convertToInteractive',\n",
              "                                                     [key], {});\n",
              "          if (!dataTable) return;\n",
              "\n",
              "          const docLinkHtml = 'Like what you see? Visit the ' +\n",
              "            '<a target=\"_blank\" href=https://colab.research.google.com/notebooks/data_table.ipynb>data table notebook</a>'\n",
              "            + ' to learn more about interactive tables.';\n",
              "          element.innerHTML = '';\n",
              "          dataTable['output_type'] = 'display_data';\n",
              "          await google.colab.output.renderOutput(dataTable, element);\n",
              "          const docLink = document.createElement('div');\n",
              "          docLink.innerHTML = docLinkHtml;\n",
              "          element.appendChild(docLink);\n",
              "        }\n",
              "      </script>\n",
              "    </div>\n",
              "  </div>\n",
              "  "
            ]
          },
          "metadata": {},
          "execution_count": 13
        }
      ]
    },
    {
      "cell_type": "markdown",
      "source": [
        "##Seaborn e scatter"
      ],
      "metadata": {
        "id": "6eeJ7dEpHKJm"
      }
    },
    {
      "cell_type": "code",
      "source": [
        "ValorGorjetas = sns.scatterplot(x='Total', y='Gorjeta', data=gorjetas)"
      ],
      "metadata": {
        "id": "UafK8Hl3HOog",
        "colab": {
          "base_uri": "https://localhost:8080/",
          "height": 279
        },
        "outputId": "75805ef5-2e07-47f5-b3ef-65ec34963934"
      },
      "execution_count": 14,
      "outputs": [
        {
          "output_type": "display_data",
          "data": {
            "text/plain": [
              "<Figure size 432x288 with 1 Axes>"
            ],
            "image/png": "[encoded data removed]"
          },
          "metadata": {
            "needs_background": "light"
          }
        }
      ]
    },
    {
      "cell_type": "code",
      "source": [
        "print(f'teste vai {gorjetas.shape[0]}')"
      ],
      "metadata": {
        "id": "itLh8cnGKNrN",
        "colab": {
          "base_uri": "https://localhost:8080/"
        },
        "outputId": "17f0addc-9fc3-43c6-f906-c868f74d0fe3"
      },
      "execution_count": 15,
      "outputs": [
        {
          "output_type": "stream",
          "name": "stdout",
          "text": [
            "teste vai 244\n"
          ]
        }
      ]
    },
    {
      "cell_type": "code",
      "source": [
        "porcentagemSea = sns.scatterplot(x='Total',y='Gorjeta',data=gorjetas)"
      ],
      "metadata": {
        "id": "C00pivjCNc77",
        "colab": {
          "base_uri": "https://localhost:8080/",
          "height": 279
        },
        "outputId": "f6767854-3004-4982-b492-1098626dfaee"
      },
      "execution_count": 16,
      "outputs": [
        {
          "output_type": "display_data",
          "data": {
            "text/plain": [
              "<Figure size 432x288 with 1 Axes>"
            ],
            "image/png": "[encoded data removed]"
          },
          "metadata": {
            "needs_background": "light"
          }
        }
      ]
    },
    {
      "cell_type": "code",
      "source": [
        "#corrigindo a relação da gorjeta com o total da conta\n",
        "porcentagemLinha = sns.relplot(x='Total',y='Porcentagem', kind='line', data=gorjetas)"
      ],
      "metadata": {
        "id": "93LptAOuQqDt"
      },
      "execution_count": null,
      "outputs": []
    },
    {
      "cell_type": "markdown",
      "source": [
        "##Adicionar coluna de porcentagem"
      ],
      "metadata": {
        "id": "EZdzboGLMJmf"
      }
    },
    {
      "cell_type": "code",
      "source": [
        "gorjetas['Porcentagem'] = gorjetas['Gorjeta'] / gorjetas['Total']\n"
      ],
      "metadata": {
        "id": "k1O9N7HHMNjc"
      },
      "execution_count": 19,
      "outputs": []
    },
    {
      "cell_type": "code",
      "source": [
        "gorjetas.Porcentagem = gorjetas.Porcentagem.round(3)"
      ],
      "metadata": {
        "id": "hpDd9oLIMZSt"
      },
      "execution_count": 20,
      "outputs": []
    },
    {
      "cell_type": "code",
      "source": [
        "gorjetas.head(10)"
      ],
      "metadata": {
        "id": "51UeSfhtM1ER",
        "colab": {
          "base_uri": "https://localhost:8080/",
          "height": 363
        },
        "outputId": "c441a7a8-5447-4504-b7b8-b7059c98d171"
      },
      "execution_count": 21,
      "outputs": [
        {
          "output_type": "execute_result",
          "data": {
            "text/plain": [
              "   Total  Gorjeta Sobremesa Dia_Semana Hora_do_Dia  Quantidade_de_Pessoas  \\\n",
              "0  16.99     1.01       Não    Domingo       Janta                      2   \n",
              "1  10.34     1.66       Não    Domingo       Janta                      3   \n",
              "2  21.01     3.50       Não    Domingo       Janta                      3   \n",
              "3  23.68     3.31       Não    Domingo       Janta                      2   \n",
              "4  24.59     3.61       Não    Domingo       Janta                      4   \n",
              "5  25.29     4.71       Não    Domingo       Janta                      4   \n",
              "6   8.77     2.00       Não    Domingo       Janta                      2   \n",
              "7  26.88     3.12       Não    Domingo       Janta                      4   \n",
              "8  15.04     1.96       Não    Domingo       Janta                      2   \n",
              "9  14.78     3.23       Não    Domingo       Janta                      2   \n",
              "\n",
              "   Porcentagem  \n",
              "0        0.059  \n",
              "1        0.161  \n",
              "2        0.167  \n",
              "3        0.140  \n",
              "4        0.147  \n",
              "5        0.186  \n",
              "6        0.228  \n",
              "7        0.116  \n",
              "8        0.130  \n",
              "9        0.219  "
            ],
            "text/html": [
              "\n",
              "  <div id=\"df-27c9d53d-18e2-4a25-b5b9-95fc0e1abb38\">\n",
              "    <div class=\"colab-df-container\">\n",
              "      <div>\n",
              "<style scoped>\n",
              "    .dataframe tbody tr th:only-of-type {\n",
              "        vertical-align: middle;\n",
              "    }\n",
              "\n",
              "    .dataframe tbody tr th {\n",
              "        vertical-align: top;\n",
              "    }\n",
              "\n",
              "    .dataframe thead th {\n",
              "        text-align: right;\n",
              "    }\n",
              "</style>\n",
              "<table border=\"1\" class=\"dataframe\">\n",
              "  <thead>\n",
              "    <tr style=\"text-align: right;\">\n",
              "      <th></th>\n",
              "      <th>Total</th>\n",
              "      <th>Gorjeta</th>\n",
              "      <th>Sobremesa</th>\n",
              "      <th>Dia_Semana</th>\n",
              "      <th>Hora_do_Dia</th>\n",
              "      <th>Quantidade_de_Pessoas</th>\n",
              "      <th>Porcentagem</th>\n",
              "    </tr>\n",
              "  </thead>\n",
              "  <tbody>\n",
              "    <tr>\n",
              "      <th>0</th>\n",
              "      <td>16.99</td>\n",
              "      <td>1.01</td>\n",
              "      <td>Não</td>\n",
              "      <td>Domingo</td>\n",
              "      <td>Janta</td>\n",
              "      <td>2</td>\n",
              "      <td>0.059</td>\n",
              "    </tr>\n",
              "    <tr>\n",
              "      <th>1</th>\n",
              "      <td>10.34</td>\n",
              "      <td>1.66</td>\n",
              "      <td>Não</td>\n",
              "      <td>Domingo</td>\n",
              "      <td>Janta</td>\n",
              "      <td>3</td>\n",
              "      <td>0.161</td>\n",
              "    </tr>\n",
              "    <tr>\n",
              "      <th>2</th>\n",
              "      <td>21.01</td>\n",
              "      <td>3.50</td>\n",
              "      <td>Não</td>\n",
              "      <td>Domingo</td>\n",
              "      <td>Janta</td>\n",
              "      <td>3</td>\n",
              "      <td>0.167</td>\n",
              "    </tr>\n",
              "    <tr>\n",
              "      <th>3</th>\n",
              "      <td>23.68</td>\n",
              "      <td>3.31</td>\n",
              "      <td>Não</td>\n",
              "      <td>Domingo</td>\n",
              "      <td>Janta</td>\n",
              "      <td>2</td>\n",
              "      <td>0.140</td>\n",
              "    </tr>\n",
              "    <tr>\n",
              "      <th>4</th>\n",
              "      <td>24.59</td>\n",
              "      <td>3.61</td>\n",
              "      <td>Não</td>\n",
              "      <td>Domingo</td>\n",
              "      <td>Janta</td>\n",
              "      <td>4</td>\n",
              "      <td>0.147</td>\n",
              "    </tr>\n",
              "    <tr>\n",
              "      <th>5</th>\n",
              "      <td>25.29</td>\n",
              "      <td>4.71</td>\n",
              "      <td>Não</td>\n",
              "      <td>Domingo</td>\n",
              "      <td>Janta</td>\n",
              "      <td>4</td>\n",
              "      <td>0.186</td>\n",
              "    </tr>\n",
              "    <tr>\n",
              "      <th>6</th>\n",
              "      <td>8.77</td>\n",
              "      <td>2.00</td>\n",
              "      <td>Não</td>\n",
              "      <td>Domingo</td>\n",
              "      <td>Janta</td>\n",
              "      <td>2</td>\n",
              "      <td>0.228</td>\n",
              "    </tr>\n",
              "    <tr>\n",
              "      <th>7</th>\n",
              "      <td>26.88</td>\n",
              "      <td>3.12</td>\n",
              "      <td>Não</td>\n",
              "      <td>Domingo</td>\n",
              "      <td>Janta</td>\n",
              "      <td>4</td>\n",
              "      <td>0.116</td>\n",
              "    </tr>\n",
              "    <tr>\n",
              "      <th>8</th>\n",
              "      <td>15.04</td>\n",
              "      <td>1.96</td>\n",
              "      <td>Não</td>\n",
              "      <td>Domingo</td>\n",
              "      <td>Janta</td>\n",
              "      <td>2</td>\n",
              "      <td>0.130</td>\n",
              "    </tr>\n",
              "    <tr>\n",
              "      <th>9</th>\n",
              "      <td>14.78</td>\n",
              "      <td>3.23</td>\n",
              "      <td>Não</td>\n",
              "      <td>Domingo</td>\n",
              "      <td>Janta</td>\n",
              "      <td>2</td>\n",
              "      <td>0.219</td>\n",
              "    </tr>\n",
              "  </tbody>\n",
              "</table>\n",
              "</div>\n",
              "      <button class=\"colab-df-convert\" onclick=\"convertToInteractive('df-27c9d53d-18e2-4a25-b5b9-95fc0e1abb38')\"\n",
              "              title=\"Convert this dataframe to an interactive table.\"\n",
              "              style=\"display:none;\">\n",
              "        \n",
              "  <svg xmlns=\"http://www.w3.org/2000/svg\" height=\"24px\"viewBox=\"0 0 24 24\"\n",
              "       width=\"24px\">\n",
              "    <path d=\"M0 0h24v24H0V0z\" fill=\"none\"/>\n",
              "    <path d=\"M18.56 5.44l.94 2.06.94-2.06 2.06-.94-2.06-.94-.94-2.06-.94 2.06-2.06.94zm-11 1L8.5 8.5l.94-2.06 2.06-.94-2.06-.94L8.5 2.5l-.94 2.06-2.06.94zm10 10l.94 2.06.94-2.06 2.06-.94-2.06-.94-.94-2.06-.94 2.06-2.06.94z\"/><path d=\"M17.41 7.96l-1.37-1.37c-.4-.4-.92-.59-1.43-.59-.52 0-1.04.2-1.43.59L10.3 9.45l-7.72 7.72c-.78.78-.78 2.05 0 2.83L4 21.41c.39.39.9.59 1.41.59.51 0 1.02-.2 1.41-.59l7.78-7.78 2.81-2.81c.8-.78.8-2.07 0-2.86zM5.41 20L4 18.59l7.72-7.72 1.47 1.35L5.41 20z\"/>\n",
              "  </svg>\n",
              "      </button>\n",
              "      \n",
              "  <style>\n",
              "    .colab-df-container {\n",
              "      display:flex;\n",
              "      flex-wrap:wrap;\n",
              "      gap: 12px;\n",
              "    }\n",
              "\n",
              "    .colab-df-convert {\n",
              "      background-color: #E8F0FE;\n",
              "      border: none;\n",
              "      border-radius: 50%;\n",
              "      cursor: pointer;\n",
              "      display: none;\n",
              "      fill: #1967D2;\n",
              "      height: 32px;\n",
              "      padding: 0 0 0 0;\n",
              "      width: 32px;\n",
              "    }\n",
              "\n",
              "    .colab-df-convert:hover {\n",
              "      background-color: #E2EBFA;\n",
              "      box-shadow: 0px 1px 2px rgba(60, 64, 67, 0.3), 0px 1px 3px 1px rgba(60, 64, 67, 0.15);\n",
              "      fill: #174EA6;\n",
              "    }\n",
              "\n",
              "    [theme=dark] .colab-df-convert {\n",
              "      background-color: #3B4455;\n",
              "      fill: #D2E3FC;\n",
              "    }\n",
              "\n",
              "    [theme=dark] .colab-df-convert:hover {\n",
              "      background-color: #434B5C;\n",
              "      box-shadow: 0px 1px 3px 1px rgba(0, 0, 0, 0.15);\n",
              "      filter: drop-shadow(0px 1px 2px rgba(0, 0, 0, 0.3));\n",
              "      fill: #FFFFFF;\n",
              "    }\n",
              "  </style>\n",
              "\n",
              "      <script>\n",
              "        const buttonEl =\n",
              "          document.querySelector('#df-27c9d53d-18e2-4a25-b5b9-95fc0e1abb38 button.colab-df-convert');\n",
              "        buttonEl.style.display =\n",
              "          google.colab.kernel.accessAllowed ? 'block' : 'none';\n",
              "\n",
              "        async function convertToInteractive(key) {\n",
              "          const element = document.querySelector('#df-27c9d53d-18e2-4a25-b5b9-95fc0e1abb38');\n",
              "          const dataTable =\n",
              "            await google.colab.kernel.invokeFunction('convertToInteractive',\n",
              "                                                     [key], {});\n",
              "          if (!dataTable) return;\n",
              "\n",
              "          const docLinkHtml = 'Like what you see? Visit the ' +\n",
              "            '<a target=\"_blank\" href=https://colab.research.google.com/notebooks/data_table.ipynb>data table notebook</a>'\n",
              "            + ' to learn more about interactive tables.';\n",
              "          element.innerHTML = '';\n",
              "          dataTable['output_type'] = 'display_data';\n",
              "          await google.colab.output.renderOutput(dataTable, element);\n",
              "          const docLink = document.createElement('div');\n",
              "          docLink.innerHTML = docLinkHtml;\n",
              "          element.appendChild(docLink);\n",
              "        }\n",
              "      </script>\n",
              "    </div>\n",
              "  </div>\n",
              "  "
            ]
          },
          "metadata": {},
          "execution_count": 21
        }
      ]
    },
    {
      "cell_type": "markdown",
      "source": [
        "##Tipos de Análises"
      ],
      "metadata": {
        "id": "t0idt0OlRlJX"
      }
    },
    {
      "cell_type": "code",
      "source": [
        "#relação de gorjeta com pedir sobremesa\n",
        "\n",
        "#Não pediu\n",
        "gorjetas[gorjetas.Sobremesa == 'Não'].describe().round(2)\n",
        "\n",
        "#Pediu\n",
        "gorjetas[gorjetas.Sobremesa == 'Sim'].describe().round()"
      ],
      "metadata": {
        "id": "cpQLfhcERq9E"
      },
      "execution_count": null,
      "outputs": []
    },
    {
      "cell_type": "code",
      "source": [
        "#Jogando essas relações em um gráfico categórico\n",
        "sns.catplot(x='Sobremesa',y='Gorjeta',data = gorjetas)"
      ],
      "metadata": {
        "id": "KEQVKFV8asNR"
      },
      "execution_count": null,
      "outputs": []
    },
    {
      "cell_type": "code",
      "source": [
        "#Jogando as relaçoes em um gráfico relacional\n",
        "sns.relplot(x='Total', y='Gorjeta', hue='Sobremesa', col='Sobremesa', data=gorjetas)#hue é 'subtitulo' é muda cor do do outro dado analisado\n",
        "                                                                                    #col divide em 2 gráficos com os parametros passados"
      ],
      "metadata": {
        "id": "jJTLNDnpcFYW"
      },
      "execution_count": null,
      "outputs": []
    },
    {
      "cell_type": "code",
      "source": [
        "#L M plot traça uma linha de progressão no gráfico\n",
        "sns.lmplot(x='Gorjeta',y='Porcentagem', col='Sobremesa',hue='Sobremesa', data=gorjetas )\n",
        "#deixando mais claro a diferença de gorjeta entre quem pediu sobremesa e quem não pediu"
      ],
      "metadata": {
        "id": "1nDB5BIIdS17"
      },
      "execution_count": null,
      "outputs": []
    },
    {
      "cell_type": "code",
      "source": [
        "#transformando a visualização com kind\n",
        "sns.relplot(x='Total',y='Gorjeta', col='Sobremesa', hue='Sobremesa', kind='line' , data=gorjetas)"
      ],
      "metadata": {
        "id": "Zal8HGFheR_I"
      },
      "execution_count": null,
      "outputs": []
    },
    {
      "cell_type": "code",
      "source": [
        "#Filtrar de maneira específica a relação usando ranksums\n",
        "sobremesaSim = gorjetas.query(\"Sobremesa == 'Sim'\").Porcentagem"
      ],
      "metadata": {
        "id": "NzgWX4rFgQ_t"
      },
      "execution_count": null,
      "outputs": []
    },
    {
      "cell_type": "code",
      "source": [
        "sobremesaNao = gorjetas.query(\"Sobremesa == 'Não'\").Porcentagem"
      ],
      "metadata": {
        "id": "nstfaaTGhl_5"
      },
      "execution_count": null,
      "outputs": []
    },
    {
      "cell_type": "code",
      "source": [
        "rankS = ranksums(sobremesaSim, sobremesaNao)"
      ],
      "metadata": {
        "id": "CkdJwRTahmCW"
      },
      "execution_count": null,
      "outputs": []
    },
    {
      "cell_type": "markdown",
      "source": [
        "##Analisando a relação de gorjeta com o dia da semana"
      ],
      "metadata": {
        "id": "cZJN3gbFsJbf"
      }
    },
    {
      "cell_type": "code",
      "source": [
        "#Gráfico categórico\n",
        "sns.catplot(x='Dia_Semana',y='Gorjeta',data=gorjetas)"
      ],
      "metadata": {
        "id": "EBMxAhH4sN0E"
      },
      "execution_count": null,
      "outputs": []
    },
    {
      "cell_type": "code",
      "source": [
        "#Gráfico relacional\n",
        "sns.relplot(x='Total', y='Porcentagem', hue='Dia_Semana', col='Dia_Semana', data=gorjetas)"
      ],
      "metadata": {
        "id": "59f6Ng1BvCtO"
      },
      "execution_count": null,
      "outputs": []
    },
    {
      "cell_type": "code",
      "source": [
        "#Relacional com traçado ao centro\n",
        "sns.lmplot(x='Total', y='Porcentagem', hue='Dia_Semana', col='Dia_Semana', data=gorjetas)"
      ],
      "metadata": {
        "id": "zlIqrU-ZvYyy"
      },
      "execution_count": null,
      "outputs": []
    },
    {
      "cell_type": "markdown",
      "source": [
        "##Média geral das gorjetas"
      ],
      "metadata": {
        "id": "Kainy7IYzq2d"
      }
    },
    {
      "cell_type": "code",
      "source": [
        "#Média de todos os dias de gorjetas\n",
        "mediaGorjeta = gorjetas.Gorjeta.mean().round(2)\n",
        "print(f'A média de gorjetas foi {mediaGorjeta}')"
      ],
      "metadata": {
        "id": "53AXV3wlzycg",
        "outputId": "f00eef7c-8d15-439a-cd6c-259c4e999e5d",
        "colab": {
          "base_uri": "https://localhost:8080/"
        }
      },
      "execution_count": 45,
      "outputs": [
        {
          "output_type": "stream",
          "name": "stdout",
          "text": [
            "A média de gorjetas foi 3.0\n"
          ]
        }
      ]
    },
    {
      "cell_type": "code",
      "source": [
        "#Média dos dias específico\n",
        "gorjetas.groupby(['Dia_Semana']).mean().round(2)[['Total','Gorjeta','Porcentagem']]"
      ],
      "metadata": {
        "id": "_7tXuL1c1ghq"
      },
      "execution_count": null,
      "outputs": []
    },
    {
      "cell_type": "markdown",
      "source": [
        "##Boxplot e violinplot"
      ],
      "metadata": {
        "id": "3ygyxFzG7JPV"
      }
    },
    {
      "cell_type": "code",
      "source": [
        "#Visualização do valor da conta sobre o horário da refeição _utilizando kin_\n",
        "sns.catplot(x='Hora_do_Dia',y='Total', hue='Hora_do_Dia', kind='swarm', data=gorjetas)"
      ],
      "metadata": {
        "id": "xubJ96D88XVV"
      },
      "execution_count": null,
      "outputs": []
    },
    {
      "cell_type": "code",
      "source": [
        "#visualização com o violinplot\n",
        "sns.violinplot(x='Hora_do_Dia',y='Total', data = gorjetas)"
      ],
      "metadata": {
        "id": "lRmbIuPC9bBY"
      },
      "execution_count": null,
      "outputs": []
    },
    {
      "cell_type": "code",
      "source": [
        "#Visualização com Boxplot\n",
        "sns.boxplot(x='Hora_do_Dia',y='Total',data=gorjetas)"
      ],
      "metadata": {
        "id": "j63-fYhE9yvC"
      },
      "execution_count": null,
      "outputs": []
    },
    {
      "cell_type": "code",
      "source": [
        "#Visualização com Histograma\n",
        "almoco = gorjetas.query(\"Hora_do_Dia == 'Almoço'\").Total\n",
        "janta = gorjetas.query(\"Hora_do_Dia == 'Janta'\").Total"
      ],
      "metadata": {
        "id": "ham-ncu2-M3F"
      },
      "execution_count": 57,
      "outputs": []
    },
    {
      "cell_type": "code",
      "source": [
        "sns.histplot(almoco)\n",
        "#ou\n",
        "sns.displot(janta)"
      ],
      "metadata": {
        "id": "ipJYyMC9-kZq"
      },
      "execution_count": null,
      "outputs": []
    }
  ]
}