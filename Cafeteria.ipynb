{
  "nbformat": 4,
  "nbformat_minor": 0,
  "metadata": {
    "colab": {
      "provenance": [],
      "authorship_tag": "ABX9TyMNtlt6MRtTOxrscOVGt251"
    },
    "kernelspec": {
      "name": "python3",
      "display_name": "Python 3"
    },
    "language_info": {
      "name": "python"
    }
  },
  "cells": [
    {
      "cell_type": "markdown",
      "source": [
        "#imports e arrumando o type"
      ],
      "metadata": {
        "id": "zGoZ0qGLRq6m"
      }
    },
    {
      "cell_type": "code",
      "source": [
        "import pandas as pd\n",
        "import matplotlib as plt\n",
        "import numpy as np\n",
        "import seaborn as sns\n",
        "cafe = pd.read_csv(\"cafelura.csv\")\n",
        "cafe['mes'] = pd.to_datetime(cafe['mes'])"
      ],
      "metadata": {
        "id": "3eF0aN_2RtqC"
      },
      "execution_count": 29,
      "outputs": []
    },
    {
      "cell_type": "markdown",
      "source": [
        "#Normalização das vendas"
      ],
      "metadata": {
        "id": "70lQjhysSfBg"
      }
    },
    {
      "cell_type": "code",
      "source": [
        "print(f'quantidade de linhas e colunas: {cafe.shape}')\n",
        "print(f'quantidade de elementos nulos:{cafe.isnull().sum().sum()}')"
      ],
      "metadata": {
        "id": "VyejxaW3SlBL"
      },
      "execution_count": null,
      "outputs": []
    },
    {
      "cell_type": "code",
      "source": [
        "#plot\n",
        "def CriarGrafico(titulo, labelx, labely, x, y , dataset):\n",
        "  sns.set_palette('Accent')\n",
        "  sns.set_style('darkgrid')\n",
        "  grafico2 = sns.lineplot(x=x, y=y, data=dataset)\n",
        "  grafico2.figure.set_size_inches(12,6)\n",
        "  grafico2.set_xlabel(labelx, fontsize=14)\n",
        "  grafico2.set_ylabel(labely, fontsize=14)\n",
        "  grafico2.set_title(titulo, fontsize=18, loc='left')\n",
        "  grafico2 = grafico2\n"
      ],
      "metadata": {
        "id": "zCqb7RUzJOV8"
      },
      "execution_count": 30,
      "outputs": []
    },
    {
      "cell_type": "code",
      "source": [
        "qntDfds = pd.read_csv('dias_final_de_semana.csv')"
      ],
      "metadata": {
        "id": "kNnD9arQXTen"
      },
      "execution_count": 27,
      "outputs": []
    },
    {
      "cell_type": "code",
      "source": [
        "cafe['vendasNormalizadas'] = cafe['vendas'] / qntDfds['quantidade_de_dias'].values\n",
        "cafe.head(10)"
      ],
      "metadata": {
        "id": "jwBEM8NbX4QC"
      },
      "execution_count": null,
      "outputs": []
    },
    {
      "cell_type": "code",
      "source": [
        "CriarGrafico('Vendas cafeteria 2017/18','Tempo','Vendas', 'mes', 'vendas', cafe)"
      ],
      "metadata": {
        "id": "jYbldX8YJUDC"
      },
      "execution_count": null,
      "outputs": []
    }
  ]
}